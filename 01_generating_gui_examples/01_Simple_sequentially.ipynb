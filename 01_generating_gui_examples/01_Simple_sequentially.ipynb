{
 "cells": [
  {
   "cell_type": "markdown",
   "metadata": {},
   "source": [
    "# Simple sequentially scored survey"
   ]
  },
  {
   "cell_type": "markdown",
   "metadata": {},
   "source": [
    "The following defines three Likert scale questions, and stores the GUI answers to a <code>results</code> object."
   ]
  },
  {
   "cell_type": "code",
   "execution_count": null,
   "metadata": {},
   "outputs": [],
   "source": [
    "library(\"mirtCAT\")\n",
    "options(stringsAsFactors = FALSE)\n",
    "\n",
    "### Create simple non-adaptive interface ###\n",
    "\n",
    "## Potential options for each item\n",
    "options <- matrix(c(\"Strongly Disagree\", \"Disagree\", \"Neutral\", \"Agree\", \"Strongly Agree\"),\n",
    "    nrow = 3, ncol = 5, byrow = TRUE)\n",
    "\n",
    "questions <- c(\"Building CATs with mirtCAT is difficult.\",\n",
    "               \"Building tests with mirtCAT requires a lot of coding.\",\n",
    "               \"I would use mirtCAT in my research.\")\n",
    "\n",
    "df <- data.frame(Question = questions, Option = options, Type = \"radio\")\n",
    "df\n",
    "\n",
    "## Run the mirtCAT web interface and store results\n",
    "results <- mirtCAT(df = df)\n",
    "print(results)\n",
    "summary(results)"
   ]
  },
  {
   "cell_type": "markdown",
   "metadata": {},
   "source": [
    "If we wish to modify the <code>demographics</code> page to collect information about a participants gender and occupation, we could use the following."
   ]
  },
  {
   "cell_type": "code",
   "execution_count": null,
   "metadata": {},
   "outputs": [],
   "source": [
    "### Include a demographics page to collect occupation and gender variables ###\n",
    "demographics <- list(textInput(inputId = 'occupation',\n",
    "                               label = 'What is your occupation?',\n",
    "                               value = ''),\n",
    "                     selectInput(inputId = 'gender',\n",
    "                                 label = 'Please select your gender.',\n",
    "                                 choices = c('', 'Male', 'Female', 'Other'),\n",
    "                                 selected = ''))\n",
    "results <- mirtCAT(df, shinyGUI = list(demographics = demographics,\n",
    "                                              demographics_inputIDs = c('occupation', 'gender')))\n",
    "summary(results)"
   ]
  }
 ],
 "metadata": {
  "kernelspec": {
   "display_name": "R",
   "language": "R",
   "name": "ir"
  },
  "language_info": {
   "codemirror_mode": "r",
   "file_extension": ".r",
   "mimetype": "text/x-r-source",
   "name": "R",
   "pygments_lexer": "r",
   "version": "3.4.4"
  }
 },
 "nbformat": 4,
 "nbformat_minor": 2
}
