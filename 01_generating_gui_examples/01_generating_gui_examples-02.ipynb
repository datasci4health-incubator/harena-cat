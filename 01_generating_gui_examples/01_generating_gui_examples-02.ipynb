{
 "cells": [
  {
   "cell_type": "markdown",
   "metadata": {},
   "source": [
    "# Unidimensional example"
   ]
  },
  {
   "cell_type": "markdown",
   "metadata": {},
   "source": [
    "This example demonstrates how a unidimensional IRT test can be scored and modified for off-line and on-line use. \n",
    "\n",
    "The following code-block defines 100 items for a math test measuring addition skills."
   ]
  },
  {
   "cell_type": "code",
   "execution_count": null,
   "metadata": {},
   "outputs": [],
   "source": [
    "library('mirtCAT')\n",
    "options(stringsAsFactors = FALSE)\n",
    "\n",
    "# define population IRT parameters\n",
    "set.seed(1234)\n",
    "nitems <- 100\n",
    "itemnames <- paste0('Item.', 1:nitems)\n",
    "a <- matrix(rlnorm(nitems, .2, .3))\n",
    "d <- matrix(rnorm(nitems))\n",
    "pars <- data.frame(a1=a, d=d, g=0.2)\n",
    "mod <- generate.mirt_object(pars, '3PL')\n",
    "\n",
    "# math items definitions\n",
    "# addition for one factor and multiplication for the other\n",
    "questions <- answers <- character(nitems)\n",
    "choices <- matrix('a', nitems, 5)\n",
    "spacing <- floor(d - min(d)) + 1 #easier items have more variation\n",
    "\n",
    "for(i in 1:nitems){\n",
    "    n1 <- sample(1:100, 1)\n",
    "    n2 <- sample(101:200, 1)\n",
    "    ans <- n1 + n2\n",
    "    questions[i] <- paste0(n1, ' + ', n2, ' = ?')\n",
    "    answers[i] <- as.character(ans)\n",
    "    ch <- ans + sample(c(-5:-1, 1:5) * spacing[i,], 5)\n",
    "    ch[sample(1:5, 1)] <- ans\n",
    "    choices[i,] <- as.character(ch)\n",
    "}\n",
    "\n",
    "df <- data.frame(Questions=questions, Answer=answers, Option=choices, Type='radio')\n",
    "head(df)"
   ]
  },
  {
   "cell_type": "markdown",
   "metadata": {},
   "source": [
    "Check how test is expected to behave given its overall information criteria."
   ]
  },
  {
   "cell_type": "code",
   "execution_count": null,
   "metadata": {},
   "outputs": [],
   "source": [
    "plot(mod)"
   ]
  },
  {
   "cell_type": "code",
   "execution_count": null,
   "metadata": {},
   "outputs": [],
   "source": [
    "#test appears to measure theta with SE < .4 within -2 to 2 range\n",
    "plot(mod, type = 'infoSE', theta_lim=c(-3,3))"
   ]
  },
  {
   "cell_type": "markdown",
   "metadata": {},
   "source": [
    "Run the GUI using maximum-information selection, EAP estimation, random starting item, and stopping when $SE({\\theta})<0.5$."
   ]
  },
  {
   "cell_type": "code",
   "execution_count": null,
   "metadata": {},
   "outputs": [],
   "source": [
    "result <- mirtCAT(df, mod, method = 'EAP', criteria = 'MI', start_item = 'random',\n",
    "                  design = list(min_SEM = 0.5))\n",
    "print(result)\n",
    "plot(result)\n",
    "summary(result)"
   ]
  }
 ],
 "metadata": {
  "kernelspec": {
   "display_name": "R",
   "language": "R",
   "name": "ir"
  },
  "language_info": {
   "codemirror_mode": "r",
   "file_extension": ".r",
   "mimetype": "text/x-r-source",
   "name": "R",
   "pygments_lexer": "r",
   "version": "3.6.1"
  }
 },
 "nbformat": 4,
 "nbformat_minor": 2
}
